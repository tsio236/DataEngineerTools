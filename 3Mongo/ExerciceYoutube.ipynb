{
 "cells": [
  {
   "cell_type": "markdown",
   "metadata": {},
   "source": [
    "# Consignes\n",
    "\n",
    "Intégrer le fichier USvideos.csv qui représente un ensemble de 8000 vidéos Youtube. \n",
    "\n",
    "Merger le fichier US_category_id.json pour récupérer le nom des catégories. Il conviendra de bien spécifier l'ID du document.\n",
    "\n",
    "\n",
    "# Questions \n",
    "- 1) Récupérer toutes les vidéos de la chaîne Apple.\n",
    "- 2) Compter le nombre de catégories différentes\n",
    "- 3) Si vous ne l'avez pas déjà fait, découper les tags en listes et mettre à jour les tags de chacun des documents avec une requête update.\n",
    "- 4) Récupérer les vidéos les plus vues.\n",
    "- 5) Compter le nombre moyen de vues en fonction de la catégorie.\n",
    "- 6) Récupérer les chaines Youtube avec la plus grande moyenne de likes."
   ]
  },
  {
   "cell_type": "markdown",
   "metadata": {},
   "source": [
    "## Question 0"
   ]
  },
  {
   "cell_type": "code",
   "execution_count": 22,
   "metadata": {},
   "outputs": [],
   "source": [
    "import pandas as pd\n",
    "import pymongo"
   ]
  },
  {
   "cell_type": "code",
   "execution_count": 2,
   "metadata": {},
   "outputs": [],
   "source": [
    "client = pymongo.MongoClient()\n",
    "database = client['exercices']\n",
    "collection = database['youtube']"
   ]
  },
  {
   "cell_type": "code",
   "execution_count": 3,
   "metadata": {},
   "outputs": [
    {
     "output_type": "execute_result",
     "data": {
      "text/plain": [
       "      video_id                                              title  \\\n",
       "0  XpVt6Z1Gjjo  1 YEAR OF VLOGGING -- HOW LOGAN PAUL CHANGED Y...   \n",
       "1  K4wEI5zhHB0            iPhone X — Introducing iPhone X — Apple   \n",
       "\n",
       "      channel_title  category_id  \\\n",
       "0  Logan Paul Vlogs           24   \n",
       "1             Apple           28   \n",
       "\n",
       "                                                tags    views   likes  \\\n",
       "0  logan paul vlog|logan paul|logan|paul|olympics...  4394029  320053   \n",
       "1  Apple|iPhone 10|iPhone Ten|iPhone|Portrait Lig...  7860119  185853   \n",
       "\n",
       "   dislikes  comment_total                                  thumbnail_link  \\\n",
       "0      5931          46245  https://i.ytimg.com/vi/XpVt6Z1Gjjo/default.jpg   \n",
       "1     26679              0  https://i.ytimg.com/vi/K4wEI5zhHB0/default.jpg   \n",
       "\n",
       "    date  \n",
       "0  13.09  \n",
       "1  13.09  "
      ],
      "text/html": "<div>\n<style scoped>\n    .dataframe tbody tr th:only-of-type {\n        vertical-align: middle;\n    }\n\n    .dataframe tbody tr th {\n        vertical-align: top;\n    }\n\n    .dataframe thead th {\n        text-align: right;\n    }\n</style>\n<table border=\"1\" class=\"dataframe\">\n  <thead>\n    <tr style=\"text-align: right;\">\n      <th></th>\n      <th>video_id</th>\n      <th>title</th>\n      <th>channel_title</th>\n      <th>category_id</th>\n      <th>tags</th>\n      <th>views</th>\n      <th>likes</th>\n      <th>dislikes</th>\n      <th>comment_total</th>\n      <th>thumbnail_link</th>\n      <th>date</th>\n    </tr>\n  </thead>\n  <tbody>\n    <tr>\n      <th>0</th>\n      <td>XpVt6Z1Gjjo</td>\n      <td>1 YEAR OF VLOGGING -- HOW LOGAN PAUL CHANGED Y...</td>\n      <td>Logan Paul Vlogs</td>\n      <td>24</td>\n      <td>logan paul vlog|logan paul|logan|paul|olympics...</td>\n      <td>4394029</td>\n      <td>320053</td>\n      <td>5931</td>\n      <td>46245</td>\n      <td>https://i.ytimg.com/vi/XpVt6Z1Gjjo/default.jpg</td>\n      <td>13.09</td>\n    </tr>\n    <tr>\n      <th>1</th>\n      <td>K4wEI5zhHB0</td>\n      <td>iPhone X — Introducing iPhone X — Apple</td>\n      <td>Apple</td>\n      <td>28</td>\n      <td>Apple|iPhone 10|iPhone Ten|iPhone|Portrait Lig...</td>\n      <td>7860119</td>\n      <td>185853</td>\n      <td>26679</td>\n      <td>0</td>\n      <td>https://i.ytimg.com/vi/K4wEI5zhHB0/default.jpg</td>\n      <td>13.09</td>\n    </tr>\n  </tbody>\n</table>\n</div>"
     },
     "metadata": {},
     "execution_count": 3
    }
   ],
   "source": [
    "df_youtube = pd.read_csv(\"./data/USvideos.csv\")\n",
    "df_youtube.head(2)"
   ]
  },
  {
   "cell_type": "code",
   "execution_count": 4,
   "metadata": {},
   "outputs": [
    {
     "output_type": "execute_result",
     "data": {
      "text/plain": [
       "0       [logan paul vlog, logan paul, logan, paul, oly...\n",
       "1       [Apple, iPhone 10, iPhone Ten, iPhone, Portrai...\n",
       "2                                                [[none]]\n",
       "3       [apple iphone x hands on, Apple iPhone X, iPho...\n",
       "4       [jacksfilms, parody, parodies, iphone, iphone ...\n",
       "                              ...                        \n",
       "7987    [sinkhole, how do sinkholes form, sinkhole in ...\n",
       "7988    [Business Insider, Donald Trump, Hillary Clint...\n",
       "7989    [LP, Death Valley, Other People, Lost On You, ...\n",
       "7990    [YouTube FanFest, #YTFF, Washington DC, USA, Y...\n",
       "7991    [LIGO, Virgo, collaboration, space, science, n...\n",
       "Name: tags, Length: 7992, dtype: object"
      ]
     },
     "metadata": {},
     "execution_count": 4
    }
   ],
   "source": [
    "df_youtube[\"tags\"]=df_youtube[\"tags\"].apply(lambda x : x.split(\"|\")) # On transforme la colonne tags en liste de string pour utiliser au mieux les méthodes de mongo.\n",
    "df_youtube[\"tags\"]"
   ]
  },
  {
   "cell_type": "code",
   "execution_count": 5,
   "metadata": {},
   "outputs": [
    {
     "output_type": "execute_result",
     "data": {
      "text/plain": [
       "                                kind  \\\n",
       "0  youtube#videoCategoryListResponse   \n",
       "1  youtube#videoCategoryListResponse   \n",
       "\n",
       "                                                etag  \\\n",
       "0  \"m2yskBQFythfE4irbTIeOgYYfBU/S730Ilt-Fi-emsQJv...   \n",
       "1  \"m2yskBQFythfE4irbTIeOgYYfBU/S730Ilt-Fi-emsQJv...   \n",
       "\n",
       "                                               items  \n",
       "0  {'kind': 'youtube#videoCategory', 'etag': '\"m2...  \n",
       "1  {'kind': 'youtube#videoCategory', 'etag': '\"m2...  "
      ],
      "text/html": "<div>\n<style scoped>\n    .dataframe tbody tr th:only-of-type {\n        vertical-align: middle;\n    }\n\n    .dataframe tbody tr th {\n        vertical-align: top;\n    }\n\n    .dataframe thead th {\n        text-align: right;\n    }\n</style>\n<table border=\"1\" class=\"dataframe\">\n  <thead>\n    <tr style=\"text-align: right;\">\n      <th></th>\n      <th>kind</th>\n      <th>etag</th>\n      <th>items</th>\n    </tr>\n  </thead>\n  <tbody>\n    <tr>\n      <th>0</th>\n      <td>youtube#videoCategoryListResponse</td>\n      <td>\"m2yskBQFythfE4irbTIeOgYYfBU/S730Ilt-Fi-emsQJv...</td>\n      <td>{'kind': 'youtube#videoCategory', 'etag': '\"m2...</td>\n    </tr>\n    <tr>\n      <th>1</th>\n      <td>youtube#videoCategoryListResponse</td>\n      <td>\"m2yskBQFythfE4irbTIeOgYYfBU/S730Ilt-Fi-emsQJv...</td>\n      <td>{'kind': 'youtube#videoCategory', 'etag': '\"m2...</td>\n    </tr>\n  </tbody>\n</table>\n</div>"
     },
     "metadata": {},
     "execution_count": 5
    }
   ],
   "source": [
    "df_cat = pd.read_json(\"./data/US_category_id.json\")\n",
    "df_cat.head(2)"
   ]
  },
  {
   "cell_type": "code",
   "execution_count": 6,
   "metadata": {},
   "outputs": [
    {
     "output_type": "execute_result",
     "data": {
      "text/plain": [
       "                    kind                                               etag  \\\n",
       "0  youtube#videoCategory  \"m2yskBQFythfE4irbTIeOgYYfBU/Xy1mB4_yLrHy_BmKm...   \n",
       "1  youtube#videoCategory  \"m2yskBQFythfE4irbTIeOgYYfBU/UZ1oLIIz2dxIhO45Z...   \n",
       "\n",
       "  id                                            snippet  \n",
       "0  1  {'channelId': 'UCBR8-60-B28hp2BmDPdntcQ', 'tit...  \n",
       "1  2  {'channelId': 'UCBR8-60-B28hp2BmDPdntcQ', 'tit...  "
      ],
      "text/html": "<div>\n<style scoped>\n    .dataframe tbody tr th:only-of-type {\n        vertical-align: middle;\n    }\n\n    .dataframe tbody tr th {\n        vertical-align: top;\n    }\n\n    .dataframe thead th {\n        text-align: right;\n    }\n</style>\n<table border=\"1\" class=\"dataframe\">\n  <thead>\n    <tr style=\"text-align: right;\">\n      <th></th>\n      <th>kind</th>\n      <th>etag</th>\n      <th>id</th>\n      <th>snippet</th>\n    </tr>\n  </thead>\n  <tbody>\n    <tr>\n      <th>0</th>\n      <td>youtube#videoCategory</td>\n      <td>\"m2yskBQFythfE4irbTIeOgYYfBU/Xy1mB4_yLrHy_BmKm...</td>\n      <td>1</td>\n      <td>{'channelId': 'UCBR8-60-B28hp2BmDPdntcQ', 'tit...</td>\n    </tr>\n    <tr>\n      <th>1</th>\n      <td>youtube#videoCategory</td>\n      <td>\"m2yskBQFythfE4irbTIeOgYYfBU/UZ1oLIIz2dxIhO45Z...</td>\n      <td>2</td>\n      <td>{'channelId': 'UCBR8-60-B28hp2BmDPdntcQ', 'tit...</td>\n    </tr>\n  </tbody>\n</table>\n</div>"
     },
     "metadata": {},
     "execution_count": 6
    }
   ],
   "source": [
    "# On crée une dataframe avec la colonne items afin de la nettoyer et de récupérer id.\n",
    "df_items = pd.DataFrame(df_cat['items'].tolist())\n",
    "df_items.head(2)"
   ]
  },
  {
   "cell_type": "code",
   "execution_count": 7,
   "metadata": {},
   "outputs": [
    {
     "output_type": "execute_result",
     "data": {
      "text/plain": [
       "                  channelId             title  assignable\n",
       "0  UCBR8-60-B28hp2BmDPdntcQ  Film & Animation        True\n",
       "1  UCBR8-60-B28hp2BmDPdntcQ  Autos & Vehicles        True"
      ],
      "text/html": "<div>\n<style scoped>\n    .dataframe tbody tr th:only-of-type {\n        vertical-align: middle;\n    }\n\n    .dataframe tbody tr th {\n        vertical-align: top;\n    }\n\n    .dataframe thead th {\n        text-align: right;\n    }\n</style>\n<table border=\"1\" class=\"dataframe\">\n  <thead>\n    <tr style=\"text-align: right;\">\n      <th></th>\n      <th>channelId</th>\n      <th>title</th>\n      <th>assignable</th>\n    </tr>\n  </thead>\n  <tbody>\n    <tr>\n      <th>0</th>\n      <td>UCBR8-60-B28hp2BmDPdntcQ</td>\n      <td>Film &amp; Animation</td>\n      <td>True</td>\n    </tr>\n    <tr>\n      <th>1</th>\n      <td>UCBR8-60-B28hp2BmDPdntcQ</td>\n      <td>Autos &amp; Vehicles</td>\n      <td>True</td>\n    </tr>\n  </tbody>\n</table>\n</div>"
     },
     "metadata": {},
     "execution_count": 7
    }
   ],
   "source": [
    "# On crée une dataframe avec la colonne snippets dans items afin de récupérer title.\n",
    "df_snippet = pd.DataFrame(df_items['snippet'].tolist())\n",
    "df_snippet.head(2)"
   ]
  },
  {
   "cell_type": "code",
   "execution_count": 8,
   "metadata": {},
   "outputs": [
    {
     "output_type": "execute_result",
     "data": {
      "text/plain": [
       "                    kind                                               etag  \\\n",
       "0  youtube#videoCategory  \"m2yskBQFythfE4irbTIeOgYYfBU/Xy1mB4_yLrHy_BmKm...   \n",
       "1  youtube#videoCategory  \"m2yskBQFythfE4irbTIeOgYYfBU/UZ1oLIIz2dxIhO45Z...   \n",
       "\n",
       "  id                                            snippet             title  \n",
       "0  1  {'channelId': 'UCBR8-60-B28hp2BmDPdntcQ', 'tit...  Film & Animation  \n",
       "1  2  {'channelId': 'UCBR8-60-B28hp2BmDPdntcQ', 'tit...  Autos & Vehicles  "
      ],
      "text/html": "<div>\n<style scoped>\n    .dataframe tbody tr th:only-of-type {\n        vertical-align: middle;\n    }\n\n    .dataframe tbody tr th {\n        vertical-align: top;\n    }\n\n    .dataframe thead th {\n        text-align: right;\n    }\n</style>\n<table border=\"1\" class=\"dataframe\">\n  <thead>\n    <tr style=\"text-align: right;\">\n      <th></th>\n      <th>kind</th>\n      <th>etag</th>\n      <th>id</th>\n      <th>snippet</th>\n      <th>title</th>\n    </tr>\n  </thead>\n  <tbody>\n    <tr>\n      <th>0</th>\n      <td>youtube#videoCategory</td>\n      <td>\"m2yskBQFythfE4irbTIeOgYYfBU/Xy1mB4_yLrHy_BmKm...</td>\n      <td>1</td>\n      <td>{'channelId': 'UCBR8-60-B28hp2BmDPdntcQ', 'tit...</td>\n      <td>Film &amp; Animation</td>\n    </tr>\n    <tr>\n      <th>1</th>\n      <td>youtube#videoCategory</td>\n      <td>\"m2yskBQFythfE4irbTIeOgYYfBU/UZ1oLIIz2dxIhO45Z...</td>\n      <td>2</td>\n      <td>{'channelId': 'UCBR8-60-B28hp2BmDPdntcQ', 'tit...</td>\n      <td>Autos &amp; Vehicles</td>\n    </tr>\n  </tbody>\n</table>\n</div>"
     },
     "metadata": {},
     "execution_count": 8
    }
   ],
   "source": [
    "# On ajoute title à la dataframe de items.\n",
    "df_items[\"title\"] = df_snippet[\"title\"]\n",
    "df_items.head(2)"
   ]
  },
  {
   "cell_type": "code",
   "execution_count": 9,
   "metadata": {},
   "outputs": [
    {
     "output_type": "execute_result",
     "data": {
      "text/plain": [
       "                    kind                                               etag  \\\n",
       "0  youtube#videoCategory  \"m2yskBQFythfE4irbTIeOgYYfBU/Xy1mB4_yLrHy_BmKm...   \n",
       "1  youtube#videoCategory  \"m2yskBQFythfE4irbTIeOgYYfBU/UZ1oLIIz2dxIhO45Z...   \n",
       "\n",
       "  id             title  \n",
       "0  1  Film & Animation  \n",
       "1  2  Autos & Vehicles  "
      ],
      "text/html": "<div>\n<style scoped>\n    .dataframe tbody tr th:only-of-type {\n        vertical-align: middle;\n    }\n\n    .dataframe tbody tr th {\n        vertical-align: top;\n    }\n\n    .dataframe thead th {\n        text-align: right;\n    }\n</style>\n<table border=\"1\" class=\"dataframe\">\n  <thead>\n    <tr style=\"text-align: right;\">\n      <th></th>\n      <th>kind</th>\n      <th>etag</th>\n      <th>id</th>\n      <th>title</th>\n    </tr>\n  </thead>\n  <tbody>\n    <tr>\n      <th>0</th>\n      <td>youtube#videoCategory</td>\n      <td>\"m2yskBQFythfE4irbTIeOgYYfBU/Xy1mB4_yLrHy_BmKm...</td>\n      <td>1</td>\n      <td>Film &amp; Animation</td>\n    </tr>\n    <tr>\n      <th>1</th>\n      <td>youtube#videoCategory</td>\n      <td>\"m2yskBQFythfE4irbTIeOgYYfBU/UZ1oLIIz2dxIhO45Z...</td>\n      <td>2</td>\n      <td>Autos &amp; Vehicles</td>\n    </tr>\n  </tbody>\n</table>\n</div>"
     },
     "metadata": {},
     "execution_count": 9
    }
   ],
   "source": [
    "# Et on supprime snippet puisque nous avons récupéré title.\n",
    "df_items=df_items.drop(\"snippet\", 1)\n",
    "df_items.head(2)"
   ]
  },
  {
   "cell_type": "code",
   "execution_count": 10,
   "metadata": {},
   "outputs": [
    {
     "output_type": "execute_result",
     "data": {
      "text/plain": [
       "  id             title\n",
       "0  1  Film & Animation\n",
       "1  2  Autos & Vehicles"
      ],
      "text/html": "<div>\n<style scoped>\n    .dataframe tbody tr th:only-of-type {\n        vertical-align: middle;\n    }\n\n    .dataframe tbody tr th {\n        vertical-align: top;\n    }\n\n    .dataframe thead th {\n        text-align: right;\n    }\n</style>\n<table border=\"1\" class=\"dataframe\">\n  <thead>\n    <tr style=\"text-align: right;\">\n      <th></th>\n      <th>id</th>\n      <th>title</th>\n    </tr>\n  </thead>\n  <tbody>\n    <tr>\n      <th>0</th>\n      <td>1</td>\n      <td>Film &amp; Animation</td>\n    </tr>\n    <tr>\n      <th>1</th>\n      <td>2</td>\n      <td>Autos &amp; Vehicles</td>\n    </tr>\n  </tbody>\n</table>\n</div>"
     },
     "metadata": {},
     "execution_count": 10
    }
   ],
   "source": [
    "# Nous n'avons besoin que de id et title pour fusionner le fichier US_category_id.json et USvideos.csv\n",
    "df_items=df_items.drop(\"kind\", 1)\n",
    "df_items=df_items.drop(\"etag\", 1)\n",
    "df_items.head(2)"
   ]
  },
  {
   "cell_type": "code",
   "execution_count": 11,
   "metadata": {},
   "outputs": [
    {
     "output_type": "execute_result",
     "data": {
      "text/plain": [
       "   id             title\n",
       "0   1  Film & Animation\n",
       "1   2  Autos & Vehicles"
      ],
      "text/html": "<div>\n<style scoped>\n    .dataframe tbody tr th:only-of-type {\n        vertical-align: middle;\n    }\n\n    .dataframe tbody tr th {\n        vertical-align: top;\n    }\n\n    .dataframe thead th {\n        text-align: right;\n    }\n</style>\n<table border=\"1\" class=\"dataframe\">\n  <thead>\n    <tr style=\"text-align: right;\">\n      <th></th>\n      <th>id</th>\n      <th>title</th>\n    </tr>\n  </thead>\n  <tbody>\n    <tr>\n      <th>0</th>\n      <td>1</td>\n      <td>Film &amp; Animation</td>\n    </tr>\n    <tr>\n      <th>1</th>\n      <td>2</td>\n      <td>Autos &amp; Vehicles</td>\n    </tr>\n  </tbody>\n</table>\n</div>"
     },
     "metadata": {},
     "execution_count": 11
    }
   ],
   "source": [
    "df_items[\"id\"]=df_items[\"id\"].astype(int)\n",
    "df_items.head(2)"
   ]
  },
  {
   "cell_type": "code",
   "execution_count": 12,
   "metadata": {},
   "outputs": [],
   "source": [
    "# On change le nom de title avant de fusionner puisqu'il y a déjà une colonne title dans la dataframe df.\n",
    "df_items = df_items.rename(columns={'title': 'category'})"
   ]
  },
  {
   "cell_type": "code",
   "execution_count": 13,
   "metadata": {},
   "outputs": [
    {
     "output_type": "execute_result",
     "data": {
      "text/plain": [
       "      video_id                                              title  \\\n",
       "0  XpVt6Z1Gjjo  1 YEAR OF VLOGGING -- HOW LOGAN PAUL CHANGED Y...   \n",
       "1  K4wEI5zhHB0            iPhone X — Introducing iPhone X — Apple   \n",
       "\n",
       "      channel_title  category_id  \\\n",
       "0  Logan Paul Vlogs           24   \n",
       "1             Apple           28   \n",
       "\n",
       "                                                tags    views   likes  \\\n",
       "0  [logan paul vlog, logan paul, logan, paul, oly...  4394029  320053   \n",
       "1  [Apple, iPhone 10, iPhone Ten, iPhone, Portrai...  7860119  185853   \n",
       "\n",
       "   dislikes  comment_total                                  thumbnail_link  \\\n",
       "0      5931          46245  https://i.ytimg.com/vi/XpVt6Z1Gjjo/default.jpg   \n",
       "1     26679              0  https://i.ytimg.com/vi/K4wEI5zhHB0/default.jpg   \n",
       "\n",
       "    date  id              category  \n",
       "0  13.09  24         Entertainment  \n",
       "1  13.09  28  Science & Technology  "
      ],
      "text/html": "<div>\n<style scoped>\n    .dataframe tbody tr th:only-of-type {\n        vertical-align: middle;\n    }\n\n    .dataframe tbody tr th {\n        vertical-align: top;\n    }\n\n    .dataframe thead th {\n        text-align: right;\n    }\n</style>\n<table border=\"1\" class=\"dataframe\">\n  <thead>\n    <tr style=\"text-align: right;\">\n      <th></th>\n      <th>video_id</th>\n      <th>title</th>\n      <th>channel_title</th>\n      <th>category_id</th>\n      <th>tags</th>\n      <th>views</th>\n      <th>likes</th>\n      <th>dislikes</th>\n      <th>comment_total</th>\n      <th>thumbnail_link</th>\n      <th>date</th>\n      <th>id</th>\n      <th>category</th>\n    </tr>\n  </thead>\n  <tbody>\n    <tr>\n      <th>0</th>\n      <td>XpVt6Z1Gjjo</td>\n      <td>1 YEAR OF VLOGGING -- HOW LOGAN PAUL CHANGED Y...</td>\n      <td>Logan Paul Vlogs</td>\n      <td>24</td>\n      <td>[logan paul vlog, logan paul, logan, paul, oly...</td>\n      <td>4394029</td>\n      <td>320053</td>\n      <td>5931</td>\n      <td>46245</td>\n      <td>https://i.ytimg.com/vi/XpVt6Z1Gjjo/default.jpg</td>\n      <td>13.09</td>\n      <td>24</td>\n      <td>Entertainment</td>\n    </tr>\n    <tr>\n      <th>1</th>\n      <td>K4wEI5zhHB0</td>\n      <td>iPhone X — Introducing iPhone X — Apple</td>\n      <td>Apple</td>\n      <td>28</td>\n      <td>[Apple, iPhone 10, iPhone Ten, iPhone, Portrai...</td>\n      <td>7860119</td>\n      <td>185853</td>\n      <td>26679</td>\n      <td>0</td>\n      <td>https://i.ytimg.com/vi/K4wEI5zhHB0/default.jpg</td>\n      <td>13.09</td>\n      <td>28</td>\n      <td>Science &amp; Technology</td>\n    </tr>\n  </tbody>\n</table>\n</div>"
     },
     "metadata": {},
     "execution_count": 13
    }
   ],
   "source": [
    "# On fusionne les deux fichiers.\n",
    "df = pd.merge(df_youtube, df_items, how='left', left_on=['category_id'], right_on=['id'])\n",
    "df.head(2)"
   ]
  },
  {
   "cell_type": "code",
   "execution_count": 14,
   "metadata": {},
   "outputs": [
    {
     "output_type": "execute_result",
     "data": {
      "text/plain": [
       "      video_id                                              title  \\\n",
       "0  XpVt6Z1Gjjo  1 YEAR OF VLOGGING -- HOW LOGAN PAUL CHANGED Y...   \n",
       "1  K4wEI5zhHB0            iPhone X — Introducing iPhone X — Apple   \n",
       "\n",
       "      channel_title                                               tags  \\\n",
       "0  Logan Paul Vlogs  [logan paul vlog, logan paul, logan, paul, oly...   \n",
       "1             Apple  [Apple, iPhone 10, iPhone Ten, iPhone, Portrai...   \n",
       "\n",
       "     views   likes  dislikes  comment_total  \\\n",
       "0  4394029  320053      5931          46245   \n",
       "1  7860119  185853     26679              0   \n",
       "\n",
       "                                   thumbnail_link   date  id  \\\n",
       "0  https://i.ytimg.com/vi/XpVt6Z1Gjjo/default.jpg  13.09  24   \n",
       "1  https://i.ytimg.com/vi/K4wEI5zhHB0/default.jpg  13.09  28   \n",
       "\n",
       "               category  \n",
       "0         Entertainment  \n",
       "1  Science & Technology  "
      ],
      "text/html": "<div>\n<style scoped>\n    .dataframe tbody tr th:only-of-type {\n        vertical-align: middle;\n    }\n\n    .dataframe tbody tr th {\n        vertical-align: top;\n    }\n\n    .dataframe thead th {\n        text-align: right;\n    }\n</style>\n<table border=\"1\" class=\"dataframe\">\n  <thead>\n    <tr style=\"text-align: right;\">\n      <th></th>\n      <th>video_id</th>\n      <th>title</th>\n      <th>channel_title</th>\n      <th>tags</th>\n      <th>views</th>\n      <th>likes</th>\n      <th>dislikes</th>\n      <th>comment_total</th>\n      <th>thumbnail_link</th>\n      <th>date</th>\n      <th>id</th>\n      <th>category</th>\n    </tr>\n  </thead>\n  <tbody>\n    <tr>\n      <th>0</th>\n      <td>XpVt6Z1Gjjo</td>\n      <td>1 YEAR OF VLOGGING -- HOW LOGAN PAUL CHANGED Y...</td>\n      <td>Logan Paul Vlogs</td>\n      <td>[logan paul vlog, logan paul, logan, paul, oly...</td>\n      <td>4394029</td>\n      <td>320053</td>\n      <td>5931</td>\n      <td>46245</td>\n      <td>https://i.ytimg.com/vi/XpVt6Z1Gjjo/default.jpg</td>\n      <td>13.09</td>\n      <td>24</td>\n      <td>Entertainment</td>\n    </tr>\n    <tr>\n      <th>1</th>\n      <td>K4wEI5zhHB0</td>\n      <td>iPhone X — Introducing iPhone X — Apple</td>\n      <td>Apple</td>\n      <td>[Apple, iPhone 10, iPhone Ten, iPhone, Portrai...</td>\n      <td>7860119</td>\n      <td>185853</td>\n      <td>26679</td>\n      <td>0</td>\n      <td>https://i.ytimg.com/vi/K4wEI5zhHB0/default.jpg</td>\n      <td>13.09</td>\n      <td>28</td>\n      <td>Science &amp; Technology</td>\n    </tr>\n  </tbody>\n</table>\n</div>"
     },
     "metadata": {},
     "execution_count": 14
    }
   ],
   "source": [
    "# L'ensemble des données n'est pas forcément nécessaire donc nous avons passé en revue les questions de l'exercice pour supprimer les colonnes dont nous n'aurons pas besoin.\n",
    "df=df.drop(\"category_id\", 1)\n",
    "df.head(2)"
   ]
  },
  {
   "cell_type": "code",
   "execution_count": 16,
   "metadata": {},
   "outputs": [
    {
     "output_type": "execute_result",
     "data": {
      "text/plain": [
       "video_id          0\n",
       "title             0\n",
       "channel_title     0\n",
       "tags              0\n",
       "views             0\n",
       "likes             0\n",
       "dislikes          0\n",
       "comment_total     0\n",
       "thumbnail_link    0\n",
       "date              0\n",
       "id                0\n",
       "category          0\n",
       "dtype: int64"
      ]
     },
     "metadata": {},
     "execution_count": 16
    }
   ],
   "source": [
    "df.isna().sum()\n",
    "# Il n'y a pas de NA donc on peut importer les données."
   ]
  },
  {
   "cell_type": "code",
   "execution_count": 19,
   "metadata": {},
   "outputs": [
    {
     "output_type": "execute_result",
     "data": {
      "text/plain": [
       "7992"
      ]
     },
     "metadata": {},
     "execution_count": 19
    }
   ],
   "source": [
    "# On importe les données.\n",
    "DOCUMENTS = df.to_dict('records')\n",
    "len(DOCUMENTS)"
   ]
  },
  {
   "cell_type": "code",
   "execution_count": 18,
   "metadata": {},
   "outputs": [
    {
     "output_type": "execute_result",
     "data": {
      "text/plain": [
       "<pymongo.results.InsertManyResult at 0x2b8c1b9ce00>"
      ]
     },
     "metadata": {},
     "execution_count": 18
    }
   ],
   "source": [
    "collection.insert_many(DOCUMENTS)"
   ]
  },
  {
   "cell_type": "markdown",
   "metadata": {},
   "source": [
    "## Question 1  "
   ]
  },
  {
   "cell_type": "code",
   "execution_count": 65,
   "metadata": {},
   "outputs": [
    {
     "output_type": "execute_result",
     "data": {
      "text/plain": [
       "{'_id': ObjectId('5fc22edd80728c32d6aac698'),\n",
       " 'video_id': 'K4wEI5zhHB0',\n",
       " 'title': 'iPhone X — Introducing iPhone X — Apple',\n",
       " 'channel_title': 'Apple',\n",
       " 'tags': ['Apple',\n",
       "  'iPhone 10',\n",
       "  'iPhone Ten',\n",
       "  'iPhone',\n",
       "  'Portrait Lighting',\n",
       "  'A11 Bionic',\n",
       "  'augmented reality',\n",
       "  'emoji',\n",
       "  'animoji',\n",
       "  'Face ID',\n",
       "  'Apple Pay',\n",
       "  'camera',\n",
       "  'smartphone'],\n",
       " 'views': 7860119,\n",
       " 'likes': 185853,\n",
       " 'dislikes': 26679,\n",
       " 'comment_total': 0,\n",
       " 'thumbnail_link': 'https://i.ytimg.com/vi/K4wEI5zhHB0/default.jpg',\n",
       " 'date': 13.09,\n",
       " 'id': 28,\n",
       " 'category': 'Science & Technology'}"
      ]
     },
     "metadata": {},
     "execution_count": 65
    }
   ],
   "source": [
    "# On récupère toutes les vidéos de la chaîne Apple.\n",
    "cur = collection.find({\"channel_title\":\"Apple\"})\n",
    "next(cur)\n",
    "#pour les avoir toutes :\n",
    "#for document in cur :\n",
    "#    print('-----')\n",
    "#    print(document)"
   ]
  },
  {
   "cell_type": "markdown",
   "metadata": {},
   "source": [
    "## Question 2"
   ]
  },
  {
   "cell_type": "code",
   "execution_count": 72,
   "metadata": {},
   "outputs": [
    {
     "output_type": "execute_result",
     "data": {
      "text/plain": [
       "16"
      ]
     },
     "metadata": {},
     "execution_count": 72
    }
   ],
   "source": [
    "# On compte le nombre de catégories différentes.\n",
    "len(collection.distinct('category'))"
   ]
  },
  {
   "cell_type": "code",
   "execution_count": 73,
   "metadata": {},
   "outputs": [
    {
     "output_type": "execute_result",
     "data": {
      "text/plain": [
       "['Autos & Vehicles',\n",
       " 'Comedy',\n",
       " 'Education',\n",
       " 'Entertainment',\n",
       " 'Film & Animation',\n",
       " 'Gaming',\n",
       " 'Howto & Style',\n",
       " 'Music',\n",
       " 'News & Politics',\n",
       " 'Nonprofits & Activism',\n",
       " 'People & Blogs',\n",
       " 'Pets & Animals',\n",
       " 'Science & Technology',\n",
       " 'Shows',\n",
       " 'Sports',\n",
       " 'Travel & Events']"
      ]
     },
     "metadata": {},
     "execution_count": 73
    }
   ],
   "source": [
    "# Voici la liste des catégories.\n",
    "collection.distinct('category')"
   ]
  },
  {
   "cell_type": "code",
   "execution_count": 68,
   "metadata": {},
   "outputs": [
    {
     "output_type": "execute_result",
     "data": {
      "text/plain": [
       "[{'_id': 'Howto & Style', 'charactereNumberByCategory': 869},\n",
       " {'_id': 'People & Blogs', 'charactereNumberByCategory': 882},\n",
       " {'_id': 'Science & Technology', 'charactereNumberByCategory': 512},\n",
       " {'_id': 'Film & Animation', 'charactereNumberByCategory': 378},\n",
       " {'_id': 'Music', 'charactereNumberByCategory': 1250},\n",
       " {'_id': 'Travel & Events', 'charactereNumberByCategory': 48},\n",
       " {'_id': 'Sports', 'charactereNumberByCategory': 410},\n",
       " {'_id': 'Autos & Vehicles', 'charactereNumberByCategory': 116},\n",
       " {'_id': 'Gaming', 'charactereNumberByCategory': 82},\n",
       " {'_id': 'Education', 'charactereNumberByCategory': 334},\n",
       " {'_id': 'Pets & Animals', 'charactereNumberByCategory': 116},\n",
       " {'_id': 'Comedy', 'charactereNumberByCategory': 755},\n",
       " {'_id': 'Nonprofits & Activism', 'charactereNumberByCategory': 14},\n",
       " {'_id': 'News & Politics', 'charactereNumberByCategory': 623},\n",
       " {'_id': 'Shows', 'charactereNumberByCategory': 2},\n",
       " {'_id': 'Entertainment', 'charactereNumberByCategory': 1601}]"
      ]
     },
     "metadata": {},
     "execution_count": 68
    }
   ],
   "source": [
    "# On peut affiner la recherche :\n",
    "cur = collection.aggregate([{\"$group\" : {\"_id\" : \"$category\", \"charactereNumberByCategory\" : {\"$sum\" : 1}}}])\n",
    "list(cur)"
   ]
  },
  {
   "cell_type": "markdown",
   "metadata": {},
   "source": [
    "## Question 3"
   ]
  },
  {
   "cell_type": "code",
   "execution_count": null,
   "metadata": {},
   "outputs": [],
   "source": [
    "# On a déjà découpé les tags en listes et mis à jour les tags de chacun des documents dans la question 0."
   ]
  },
  {
   "cell_type": "markdown",
   "metadata": {},
   "source": [
    "## Question 4"
   ]
  },
  {
   "cell_type": "code",
   "execution_count": 79,
   "metadata": {},
   "outputs": [
    {
     "output_type": "execute_result",
     "data": {
      "text/plain": [
       "[{'_id': 'NaN', 'MaximumValue': 41500672, 'AvgValue': 939026.9064064064}]"
      ]
     },
     "metadata": {},
     "execution_count": 79
    }
   ],
   "source": [
    "# Pour afficher les vidéos les plus vues, nous devons avoir un ordre de grandeur en tête concernant le distribution des vues.\n",
    "cur = collection.aggregate([\n",
    "   { \"$group\": {\n",
    "      \"_id\": \"NaN\",\n",
    "      \"MaximumValue\": { \"$max\": \"$views\" },\n",
    "      \"AvgValue\": { \"$avg\": \"$views\" }\n",
    "   }}\n",
    "])\n",
    "list(cur)\n",
    "# La vidéo la plus vue a 41 500 672 vues et la moyenne des vues est d'environ 939 026 vues. Nous allons afficher les vidéos les plus vues (dans le premier quart), nous choisissons les vidéos dont le nombre de vues est au dessus de 21 219 850 vues."
   ]
  },
  {
   "cell_type": "code",
   "execution_count": 82,
   "metadata": {},
   "outputs": [
    {
     "output_type": "execute_result",
     "data": {
      "text/plain": [
       "{'_id': ObjectId('5fc22edd80728c32d6aac748'), 'video_id': 'tt2k8PGm-TI'}"
      ]
     },
     "metadata": {},
     "execution_count": 82
    }
   ],
   "source": [
    "cur = collection.find( { \"views\": { \"$gt\": 21219850 }}, {\"video_id\":1})\n",
    "next(cur)\n",
    "#pour les avoir toutes :\n",
    "#for document in cur :\n",
    "#    print('-----')\n",
    "#    print(document)"
   ]
  },
  {
   "cell_type": "markdown",
   "metadata": {},
   "source": [
    "## Question 5"
   ]
  },
  {
   "cell_type": "code",
   "execution_count": 86,
   "metadata": {},
   "outputs": [
    {
     "output_type": "execute_result",
     "data": {
      "text/plain": [
       "[{'_id': 'Entertainment', 'avgNumberByCategory': 1154868.4397251718},\n",
       " {'_id': 'Howto & Style', 'avgNumberByCategory': 537665.1806674339},\n",
       " {'_id': 'Shows', 'avgNumberByCategory': 8492.5},\n",
       " {'_id': 'News & Politics', 'avgNumberByCategory': 540955.5569823436},\n",
       " {'_id': 'Comedy', 'avgNumberByCategory': 1240073.294039735},\n",
       " {'_id': 'Nonprofits & Activism', 'avgNumberByCategory': 1110334.2142857143},\n",
       " {'_id': 'Pets & Animals', 'avgNumberByCategory': 651404.3879310344},\n",
       " {'_id': 'Education', 'avgNumberByCategory': 547582.4700598803},\n",
       " {'_id': 'Gaming', 'avgNumberByCategory': 681081.8170731707},\n",
       " {'_id': 'Autos & Vehicles', 'avgNumberByCategory': 607693.8706896552},\n",
       " {'_id': 'Sports', 'avgNumberByCategory': 728434.3243902439},\n",
       " {'_id': 'Travel & Events', 'avgNumberByCategory': 464041.0833333333},\n",
       " {'_id': 'Science & Technology', 'avgNumberByCategory': 924730.548828125},\n",
       " {'_id': 'Film & Animation', 'avgNumberByCategory': 1039472.6560846561},\n",
       " {'_id': 'Music', 'avgNumberByCategory': 1176553.612},\n",
       " {'_id': 'People & Blogs', 'avgNumberByCategory': 971532.7573696146}]"
      ]
     },
     "metadata": {},
     "execution_count": 86
    }
   ],
   "source": [
    "# On compte le nombre moyen de vues en fonction de la catégorie.\n",
    "cur = collection.aggregate([{\"$group\" : {\"_id\" : \"$category\", \"avgNumberByCategory\" : {\"$avg\" : \"$views\"}}}])\n",
    "list(cur)"
   ]
  },
  {
   "cell_type": "markdown",
   "metadata": {},
   "source": [
    "## Question 6 "
   ]
  },
  {
   "cell_type": "code",
   "execution_count": 87,
   "metadata": {},
   "outputs": [
    {
     "output_type": "execute_result",
     "data": {
      "text/plain": [
       "[{'_id': 'Working at Microsoft', 'avgNumberByChannel': 207.0},\n",
       " {'_id': 'Alyosha Tanetović', 'avgNumberByChannel': 75.66666666666667},\n",
       " {'_id': 'Tom Scott', 'avgNumberByChannel': 24219.947368421053}]"
      ]
     },
     "metadata": {},
     "execution_count": 87
    }
   ],
   "source": [
    "# On récupère les chaines Youtube avec la plus grande moyenne de likes. Pour cela, on va regarder le nombre de likes moyen de chaque chaîne.\n",
    "cur = collection.aggregate([{\"$group\" : {\"_id\" : \"$channel_title\", \"avgNumberByChannel\" : {\"$avg\" : \"$likes\"}}}])\n",
    "list(cur)[:3]"
   ]
  },
  {
   "cell_type": "code",
   "execution_count": 94,
   "metadata": {},
   "outputs": [
    {
     "output_type": "execute_result",
     "data": {
      "text/plain": [
       "[{'_id': 'NaN', 'AvgValue': 34491.92655155155}]"
      ]
     },
     "metadata": {},
     "execution_count": 94
    }
   ],
   "source": [
    "# Puis on regarde la moyenne globale.\n",
    "cur = collection.aggregate([\n",
    "   { \"$group\": {\n",
    "      \"_id\": \"NaN\",\n",
    "      \"AvgValue\": { \"$avg\": \"$likes\" }\n",
    "   }}\n",
    "])\n",
    "list(cur)"
   ]
  },
  {
   "cell_type": "code",
   "execution_count": 91,
   "metadata": {},
   "outputs": [
    {
     "output_type": "execute_result",
     "data": {
      "text/plain": [
       "[{'_id': 'ZaynVEVO', 'numberAvgLikes': 1431683.0}]"
      ]
     },
     "metadata": {},
     "execution_count": 91
    }
   ],
   "source": [
    "# Et on regarde la chaîne ayant la moyenne de likes la plus élevée\n",
    "cur = collection.aggregate([{\"$group\" : {\"_id\" : \"$channel_title\", \"numberAvgLikes\" : {\"$avg\" : \"$likes\"}}}, {\n",
    "        \"$sort\": { \"numberAvgLikes\": -1 }},\n",
    "    {\n",
    "        \"$limit\": 1 \n",
    "    }])\n",
    "list(cur) \n",
    "# comme dans la question 4, on cherche les vidéos dont le nombre de likes moyen est supérieur à 733 088 likes."
   ]
  },
  {
   "cell_type": "code",
   "execution_count": 96,
   "metadata": {},
   "outputs": [
    {
     "output_type": "execute_result",
     "data": {
      "text/plain": [
       "[{'_id': 'ibighit', 'numberAvgLikes': 1371766.25},\n",
       " {'_id': 'melanie martinez', 'numberAvgLikes': 911871.5},\n",
       " {'_id': 'BETNetworks', 'numberAvgLikes': 769687.625},\n",
       " {'_id': 'jypentertainment', 'numberAvgLikes': 758826.6666666666},\n",
       " {'_id': 'ZaynVEVO', 'numberAvgLikes': 1431683.0}]"
      ]
     },
     "metadata": {},
     "execution_count": 96
    }
   ],
   "source": [
    "# Et on a les chaines Youtube avec la plus grande moyenne de likes.\n",
    "like = 733088\n",
    "cur = collection.aggregate([\n",
    "    {\"$group\" : {\n",
    "        \"_id\" : \"$channel_title\", \n",
    "        \"numberAvgLikes\" : {\"$avg\" : \"$likes\"}\n",
    "        }},\n",
    "   {\n",
    "      '$match': {\n",
    "        'numberAvgLikes': {\n",
    "          '$gt': like\n",
    "        }\n",
    "      }\n",
    "    }])\n",
    "list(cur)"
   ]
  },
  {
   "cell_type": "code",
   "execution_count": null,
   "metadata": {},
   "outputs": [],
   "source": []
  }
 ],
 "metadata": {
  "kernelspec": {
   "display_name": "Python 3",
   "language": "python",
   "name": "python3"
  },
  "language_info": {
   "codemirror_mode": {
    "name": "ipython",
    "version": 3
   },
   "file_extension": ".py",
   "mimetype": "text/x-python",
   "name": "python",
   "nbconvert_exporter": "python",
   "pygments_lexer": "ipython3",
   "version": "3.8.3-final"
  }
 },
 "nbformat": 4,
 "nbformat_minor": 2
}