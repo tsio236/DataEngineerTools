{
 "cells": [
  {
   "cell_type": "markdown",
   "metadata": {},
   "source": [
    "#  Consignes\n",
    "\n",
    "## Description\n",
    "\n",
    "Ouvrir le fichier ks-projects-201801.csv, il recense environ 100 000 projets KickStarter. Intégrer les données directement avec L'API Python dans une base de données Mongo. \n",
    "\n",
    "Il conviendra de bien spécifier manuellement l'ID du document. Pensez aussi à bien formatter le type des données pour profiter des méthodes implémentées par Mongo. L'ensemble de données n'est pas forcément nécessaire, c'est à vous de créer votre modèle de données.\n",
    "\n",
    "## Questions\n",
    "\n",
    "- 1) Récupérer les 5 projets ayant reçu le plus de promesse de dons.\n",
    "- 2) Compter le nombre de projets ayant atteint leur but.\n",
    "- 3) Compter le nombre de projets pour chaque catégorie.\n",
    "- 4) Compter le nombre de projets français ayant été instanciés avant 2016.\n",
    "- 5) Récupérer les projets américains ayant demandé plus de 200 000 dollars.\n",
    "- 6) Compter le nombre de projet ayant \"Sport\" dans leur nom"
   ]
  },
  {
   "cell_type": "code",
   "execution_count": 108,
   "metadata": {},
   "outputs": [],
   "source": [
    "import pandas as pd\n",
    "import pymongo\n",
    "import datetime"
   ]
  },
  {
   "cell_type": "code",
   "execution_count": 109,
   "metadata": {},
   "outputs": [],
   "source": [
    "client = pymongo.MongoClient()\n",
    "database = client['exercices']\n",
    "collection = database['kickstarter']"
   ]
  },
  {
   "cell_type": "code",
   "execution_count": 110,
   "metadata": {},
   "outputs": [
    {
     "output_type": "execute_result",
     "data": {
      "text/plain": [
       "           ID                                               name  \\\n",
       "0   872782264    Scott Cooper's Solo CD \"A Leg Trick\" (Canceled)   \n",
       "1  1326492673                                    Ohceola jewelry   \n",
       "2  1688410639  Sluff Off & Harald: Two latest EGGs are Classi...   \n",
       "3   156812982  SketchPlanner: Create and Plan- all in one bea...   \n",
       "4  1835968190    Proven sales with custom motorcycle accessories   \n",
       "\n",
       "         category main_category currency    deadline   goal  \\\n",
       "0            Rock         Music      USD  2011-09-16   2000   \n",
       "1         Fashion       Fashion      USD  2012-08-22  18000   \n",
       "2  Tabletop Games         Games      USD  2016-07-19   2000   \n",
       "3       Art Books    Publishing      USD  2017-09-27  13000   \n",
       "4       Sculpture           Art      CAD  2016-02-24   5000   \n",
       "\n",
       "              launched pledged       state backers country usd pledged  \\\n",
       "0  2011-08-17 06:31:31    1145    canceled      24      US        1145   \n",
       "1  2012-07-23 20:46:48    1851      failed      28      US        1851   \n",
       "2  2016-07-01 21:55:54    7534  successful     254      US        3796   \n",
       "3  2017-08-28 15:47:02   16298  successful     367      US        2670   \n",
       "4  2016-01-25 17:37:10       1      failed       1      CA    0.708148   \n",
       "\n",
       "   usd_pledged_real  \n",
       "0       1145.000000  \n",
       "1       1851.000000  \n",
       "2       7534.000000  \n",
       "3      16298.000000  \n",
       "4          0.738225  "
      ],
      "text/html": "<div>\n<style scoped>\n    .dataframe tbody tr th:only-of-type {\n        vertical-align: middle;\n    }\n\n    .dataframe tbody tr th {\n        vertical-align: top;\n    }\n\n    .dataframe thead th {\n        text-align: right;\n    }\n</style>\n<table border=\"1\" class=\"dataframe\">\n  <thead>\n    <tr style=\"text-align: right;\">\n      <th></th>\n      <th>ID</th>\n      <th>name</th>\n      <th>category</th>\n      <th>main_category</th>\n      <th>currency</th>\n      <th>deadline</th>\n      <th>goal</th>\n      <th>launched</th>\n      <th>pledged</th>\n      <th>state</th>\n      <th>backers</th>\n      <th>country</th>\n      <th>usd pledged</th>\n      <th>usd_pledged_real</th>\n    </tr>\n  </thead>\n  <tbody>\n    <tr>\n      <th>0</th>\n      <td>872782264</td>\n      <td>Scott Cooper's Solo CD \"A Leg Trick\" (Canceled)</td>\n      <td>Rock</td>\n      <td>Music</td>\n      <td>USD</td>\n      <td>2011-09-16</td>\n      <td>2000</td>\n      <td>2011-08-17 06:31:31</td>\n      <td>1145</td>\n      <td>canceled</td>\n      <td>24</td>\n      <td>US</td>\n      <td>1145</td>\n      <td>1145.000000</td>\n    </tr>\n    <tr>\n      <th>1</th>\n      <td>1326492673</td>\n      <td>Ohceola jewelry</td>\n      <td>Fashion</td>\n      <td>Fashion</td>\n      <td>USD</td>\n      <td>2012-08-22</td>\n      <td>18000</td>\n      <td>2012-07-23 20:46:48</td>\n      <td>1851</td>\n      <td>failed</td>\n      <td>28</td>\n      <td>US</td>\n      <td>1851</td>\n      <td>1851.000000</td>\n    </tr>\n    <tr>\n      <th>2</th>\n      <td>1688410639</td>\n      <td>Sluff Off &amp; Harald: Two latest EGGs are Classi...</td>\n      <td>Tabletop Games</td>\n      <td>Games</td>\n      <td>USD</td>\n      <td>2016-07-19</td>\n      <td>2000</td>\n      <td>2016-07-01 21:55:54</td>\n      <td>7534</td>\n      <td>successful</td>\n      <td>254</td>\n      <td>US</td>\n      <td>3796</td>\n      <td>7534.000000</td>\n    </tr>\n    <tr>\n      <th>3</th>\n      <td>156812982</td>\n      <td>SketchPlanner: Create and Plan- all in one bea...</td>\n      <td>Art Books</td>\n      <td>Publishing</td>\n      <td>USD</td>\n      <td>2017-09-27</td>\n      <td>13000</td>\n      <td>2017-08-28 15:47:02</td>\n      <td>16298</td>\n      <td>successful</td>\n      <td>367</td>\n      <td>US</td>\n      <td>2670</td>\n      <td>16298.000000</td>\n    </tr>\n    <tr>\n      <th>4</th>\n      <td>1835968190</td>\n      <td>Proven sales with custom motorcycle accessories</td>\n      <td>Sculpture</td>\n      <td>Art</td>\n      <td>CAD</td>\n      <td>2016-02-24</td>\n      <td>5000</td>\n      <td>2016-01-25 17:37:10</td>\n      <td>1</td>\n      <td>failed</td>\n      <td>1</td>\n      <td>CA</td>\n      <td>0.708148</td>\n      <td>0.738225</td>\n    </tr>\n  </tbody>\n</table>\n</div>"
     },
     "metadata": {},
     "execution_count": 110
    }
   ],
   "source": [
    "df_ks = pd.read_csv(\"./data/ks-projects-201801-sample.csv\")\n",
    "df_ks.head()"
   ]
  },
  {
   "cell_type": "markdown",
   "metadata": {},
   "source": [
    "Ce warning intervient lorsque pandas n'arrive pas à inférer le type de données. Il est sympa il précise les colonnes 6,8,10,12. "
   ]
  },
  {
   "cell_type": "code",
   "execution_count": 112,
   "metadata": {},
   "outputs": [
    {
     "output_type": "execute_result",
     "data": {
      "text/plain": [
       "Index(['goal', 'pledged', 'backers', 'usd pledged'], dtype='object')"
      ]
     },
     "metadata": {},
     "execution_count": 112
    }
   ],
   "source": [
    "df_ks.columns[[6,8,10,12]]"
   ]
  },
  {
   "source": [
    "## Question 0"
   ],
   "cell_type": "markdown",
   "metadata": {}
  },
  {
   "cell_type": "markdown",
   "metadata": {},
   "source": [
    "### Nettoyer les données"
   ]
  },
  {
   "cell_type": "code",
   "execution_count": 113,
   "metadata": {},
   "outputs": [
    {
     "output_type": "execute_result",
     "data": {
      "text/plain": [
       "ID                    int64\n",
       "name                 object\n",
       "category             object\n",
       "main_category        object\n",
       "currency             object\n",
       "deadline             object\n",
       "goal                 object\n",
       "launched             object\n",
       "pledged              object\n",
       "state                object\n",
       "backers              object\n",
       "country              object\n",
       "usd pledged          object\n",
       "usd_pledged_real    float64\n",
       "dtype: object"
      ]
     },
     "metadata": {},
     "execution_count": 113
    }
   ],
   "source": [
    "# On vérifie que les types de chaque variable sont bien définis.\n",
    "df_ks.dtypes"
   ]
  },
  {
   "cell_type": "code",
   "execution_count": 35,
   "metadata": {},
   "outputs": [
    {
     "output_type": "error",
     "ename": "ValueError",
     "evalue": "could not convert string to float: '2014-04-17'",
     "traceback": [
      "\u001b[1;31m---------------------------------------------------------------------------\u001b[0m",
      "\u001b[1;31mValueError\u001b[0m                                Traceback (most recent call last)",
      "\u001b[1;32m<ipython-input-35-76dbf558b537>\u001b[0m in \u001b[0;36m<module>\u001b[1;34m\u001b[0m\n\u001b[1;32m----> 1\u001b[1;33m \u001b[0mdf_ks\u001b[0m\u001b[1;33m[\u001b[0m\u001b[1;34m\"goal\"\u001b[0m\u001b[1;33m]\u001b[0m\u001b[1;33m=\u001b[0m\u001b[0mdf_ks\u001b[0m\u001b[1;33m[\u001b[0m\u001b[1;34m\"goal\"\u001b[0m\u001b[1;33m]\u001b[0m\u001b[1;33m.\u001b[0m\u001b[0mastype\u001b[0m\u001b[1;33m(\u001b[0m\u001b[0mfloat\u001b[0m\u001b[1;33m)\u001b[0m\u001b[1;33m\u001b[0m\u001b[1;33m\u001b[0m\u001b[0m\n\u001b[0m\u001b[0;32m      2\u001b[0m \u001b[1;31m# Il y a visiblement une erreur lors de l'entrée des données. Certaines données sont dans les mauvaises colonnes. On peut donc s'attendre à avoir un problème sur chaque colonne.\u001b[0m\u001b[1;33m\u001b[0m\u001b[1;33m\u001b[0m\u001b[1;33m\u001b[0m\u001b[0m\n",
      "\u001b[1;32m~\\anaconda3\\lib\\site-packages\\pandas\\core\\generic.py\u001b[0m in \u001b[0;36mastype\u001b[1;34m(self, dtype, copy, errors)\u001b[0m\n\u001b[0;32m   5696\u001b[0m         \u001b[1;32melse\u001b[0m\u001b[1;33m:\u001b[0m\u001b[1;33m\u001b[0m\u001b[1;33m\u001b[0m\u001b[0m\n\u001b[0;32m   5697\u001b[0m             \u001b[1;31m# else, only a single dtype is given\u001b[0m\u001b[1;33m\u001b[0m\u001b[1;33m\u001b[0m\u001b[1;33m\u001b[0m\u001b[0m\n\u001b[1;32m-> 5698\u001b[1;33m             \u001b[0mnew_data\u001b[0m \u001b[1;33m=\u001b[0m \u001b[0mself\u001b[0m\u001b[1;33m.\u001b[0m\u001b[0m_data\u001b[0m\u001b[1;33m.\u001b[0m\u001b[0mastype\u001b[0m\u001b[1;33m(\u001b[0m\u001b[0mdtype\u001b[0m\u001b[1;33m=\u001b[0m\u001b[0mdtype\u001b[0m\u001b[1;33m,\u001b[0m \u001b[0mcopy\u001b[0m\u001b[1;33m=\u001b[0m\u001b[0mcopy\u001b[0m\u001b[1;33m,\u001b[0m \u001b[0merrors\u001b[0m\u001b[1;33m=\u001b[0m\u001b[0merrors\u001b[0m\u001b[1;33m)\u001b[0m\u001b[1;33m\u001b[0m\u001b[1;33m\u001b[0m\u001b[0m\n\u001b[0m\u001b[0;32m   5699\u001b[0m             \u001b[1;32mreturn\u001b[0m \u001b[0mself\u001b[0m\u001b[1;33m.\u001b[0m\u001b[0m_constructor\u001b[0m\u001b[1;33m(\u001b[0m\u001b[0mnew_data\u001b[0m\u001b[1;33m)\u001b[0m\u001b[1;33m.\u001b[0m\u001b[0m__finalize__\u001b[0m\u001b[1;33m(\u001b[0m\u001b[0mself\u001b[0m\u001b[1;33m)\u001b[0m\u001b[1;33m\u001b[0m\u001b[1;33m\u001b[0m\u001b[0m\n\u001b[0;32m   5700\u001b[0m \u001b[1;33m\u001b[0m\u001b[0m\n",
      "\u001b[1;32m~\\anaconda3\\lib\\site-packages\\pandas\\core\\internals\\managers.py\u001b[0m in \u001b[0;36mastype\u001b[1;34m(self, dtype, copy, errors)\u001b[0m\n\u001b[0;32m    580\u001b[0m \u001b[1;33m\u001b[0m\u001b[0m\n\u001b[0;32m    581\u001b[0m     \u001b[1;32mdef\u001b[0m \u001b[0mastype\u001b[0m\u001b[1;33m(\u001b[0m\u001b[0mself\u001b[0m\u001b[1;33m,\u001b[0m \u001b[0mdtype\u001b[0m\u001b[1;33m,\u001b[0m \u001b[0mcopy\u001b[0m\u001b[1;33m:\u001b[0m \u001b[0mbool\u001b[0m \u001b[1;33m=\u001b[0m \u001b[1;32mFalse\u001b[0m\u001b[1;33m,\u001b[0m \u001b[0merrors\u001b[0m\u001b[1;33m:\u001b[0m \u001b[0mstr\u001b[0m \u001b[1;33m=\u001b[0m \u001b[1;34m\"raise\"\u001b[0m\u001b[1;33m)\u001b[0m\u001b[1;33m:\u001b[0m\u001b[1;33m\u001b[0m\u001b[1;33m\u001b[0m\u001b[0m\n\u001b[1;32m--> 582\u001b[1;33m         \u001b[1;32mreturn\u001b[0m \u001b[0mself\u001b[0m\u001b[1;33m.\u001b[0m\u001b[0mapply\u001b[0m\u001b[1;33m(\u001b[0m\u001b[1;34m\"astype\"\u001b[0m\u001b[1;33m,\u001b[0m \u001b[0mdtype\u001b[0m\u001b[1;33m=\u001b[0m\u001b[0mdtype\u001b[0m\u001b[1;33m,\u001b[0m \u001b[0mcopy\u001b[0m\u001b[1;33m=\u001b[0m\u001b[0mcopy\u001b[0m\u001b[1;33m,\u001b[0m \u001b[0merrors\u001b[0m\u001b[1;33m=\u001b[0m\u001b[0merrors\u001b[0m\u001b[1;33m)\u001b[0m\u001b[1;33m\u001b[0m\u001b[1;33m\u001b[0m\u001b[0m\n\u001b[0m\u001b[0;32m    583\u001b[0m \u001b[1;33m\u001b[0m\u001b[0m\n\u001b[0;32m    584\u001b[0m     \u001b[1;32mdef\u001b[0m \u001b[0mconvert\u001b[0m\u001b[1;33m(\u001b[0m\u001b[0mself\u001b[0m\u001b[1;33m,\u001b[0m \u001b[1;33m**\u001b[0m\u001b[0mkwargs\u001b[0m\u001b[1;33m)\u001b[0m\u001b[1;33m:\u001b[0m\u001b[1;33m\u001b[0m\u001b[1;33m\u001b[0m\u001b[0m\n",
      "\u001b[1;32m~\\anaconda3\\lib\\site-packages\\pandas\\core\\internals\\managers.py\u001b[0m in \u001b[0;36mapply\u001b[1;34m(self, f, filter, **kwargs)\u001b[0m\n\u001b[0;32m    440\u001b[0m                 \u001b[0mapplied\u001b[0m \u001b[1;33m=\u001b[0m \u001b[0mb\u001b[0m\u001b[1;33m.\u001b[0m\u001b[0mapply\u001b[0m\u001b[1;33m(\u001b[0m\u001b[0mf\u001b[0m\u001b[1;33m,\u001b[0m \u001b[1;33m**\u001b[0m\u001b[0mkwargs\u001b[0m\u001b[1;33m)\u001b[0m\u001b[1;33m\u001b[0m\u001b[1;33m\u001b[0m\u001b[0m\n\u001b[0;32m    441\u001b[0m             \u001b[1;32melse\u001b[0m\u001b[1;33m:\u001b[0m\u001b[1;33m\u001b[0m\u001b[1;33m\u001b[0m\u001b[0m\n\u001b[1;32m--> 442\u001b[1;33m                 \u001b[0mapplied\u001b[0m \u001b[1;33m=\u001b[0m \u001b[0mgetattr\u001b[0m\u001b[1;33m(\u001b[0m\u001b[0mb\u001b[0m\u001b[1;33m,\u001b[0m \u001b[0mf\u001b[0m\u001b[1;33m)\u001b[0m\u001b[1;33m(\u001b[0m\u001b[1;33m**\u001b[0m\u001b[0mkwargs\u001b[0m\u001b[1;33m)\u001b[0m\u001b[1;33m\u001b[0m\u001b[1;33m\u001b[0m\u001b[0m\n\u001b[0m\u001b[0;32m    443\u001b[0m             \u001b[0mresult_blocks\u001b[0m \u001b[1;33m=\u001b[0m \u001b[0m_extend_blocks\u001b[0m\u001b[1;33m(\u001b[0m\u001b[0mapplied\u001b[0m\u001b[1;33m,\u001b[0m \u001b[0mresult_blocks\u001b[0m\u001b[1;33m)\u001b[0m\u001b[1;33m\u001b[0m\u001b[1;33m\u001b[0m\u001b[0m\n\u001b[0;32m    444\u001b[0m \u001b[1;33m\u001b[0m\u001b[0m\n",
      "\u001b[1;32m~\\anaconda3\\lib\\site-packages\\pandas\\core\\internals\\blocks.py\u001b[0m in \u001b[0;36mastype\u001b[1;34m(self, dtype, copy, errors)\u001b[0m\n\u001b[0;32m    623\u001b[0m             \u001b[0mvals1d\u001b[0m \u001b[1;33m=\u001b[0m \u001b[0mvalues\u001b[0m\u001b[1;33m.\u001b[0m\u001b[0mravel\u001b[0m\u001b[1;33m(\u001b[0m\u001b[1;33m)\u001b[0m\u001b[1;33m\u001b[0m\u001b[1;33m\u001b[0m\u001b[0m\n\u001b[0;32m    624\u001b[0m             \u001b[1;32mtry\u001b[0m\u001b[1;33m:\u001b[0m\u001b[1;33m\u001b[0m\u001b[1;33m\u001b[0m\u001b[0m\n\u001b[1;32m--> 625\u001b[1;33m                 \u001b[0mvalues\u001b[0m \u001b[1;33m=\u001b[0m \u001b[0mastype_nansafe\u001b[0m\u001b[1;33m(\u001b[0m\u001b[0mvals1d\u001b[0m\u001b[1;33m,\u001b[0m \u001b[0mdtype\u001b[0m\u001b[1;33m,\u001b[0m \u001b[0mcopy\u001b[0m\u001b[1;33m=\u001b[0m\u001b[1;32mTrue\u001b[0m\u001b[1;33m)\u001b[0m\u001b[1;33m\u001b[0m\u001b[1;33m\u001b[0m\u001b[0m\n\u001b[0m\u001b[0;32m    626\u001b[0m             \u001b[1;32mexcept\u001b[0m \u001b[1;33m(\u001b[0m\u001b[0mValueError\u001b[0m\u001b[1;33m,\u001b[0m \u001b[0mTypeError\u001b[0m\u001b[1;33m)\u001b[0m\u001b[1;33m:\u001b[0m\u001b[1;33m\u001b[0m\u001b[1;33m\u001b[0m\u001b[0m\n\u001b[0;32m    627\u001b[0m                 \u001b[1;31m# e.g. astype_nansafe can fail on object-dtype of strings\u001b[0m\u001b[1;33m\u001b[0m\u001b[1;33m\u001b[0m\u001b[1;33m\u001b[0m\u001b[0m\n",
      "\u001b[1;32m~\\anaconda3\\lib\\site-packages\\pandas\\core\\dtypes\\cast.py\u001b[0m in \u001b[0;36mastype_nansafe\u001b[1;34m(arr, dtype, copy, skipna)\u001b[0m\n\u001b[0;32m    895\u001b[0m     \u001b[1;32mif\u001b[0m \u001b[0mcopy\u001b[0m \u001b[1;32mor\u001b[0m \u001b[0mis_object_dtype\u001b[0m\u001b[1;33m(\u001b[0m\u001b[0marr\u001b[0m\u001b[1;33m)\u001b[0m \u001b[1;32mor\u001b[0m \u001b[0mis_object_dtype\u001b[0m\u001b[1;33m(\u001b[0m\u001b[0mdtype\u001b[0m\u001b[1;33m)\u001b[0m\u001b[1;33m:\u001b[0m\u001b[1;33m\u001b[0m\u001b[1;33m\u001b[0m\u001b[0m\n\u001b[0;32m    896\u001b[0m         \u001b[1;31m# Explicit copy, or required since NumPy can't view from / to object.\u001b[0m\u001b[1;33m\u001b[0m\u001b[1;33m\u001b[0m\u001b[1;33m\u001b[0m\u001b[0m\n\u001b[1;32m--> 897\u001b[1;33m         \u001b[1;32mreturn\u001b[0m \u001b[0marr\u001b[0m\u001b[1;33m.\u001b[0m\u001b[0mastype\u001b[0m\u001b[1;33m(\u001b[0m\u001b[0mdtype\u001b[0m\u001b[1;33m,\u001b[0m \u001b[0mcopy\u001b[0m\u001b[1;33m=\u001b[0m\u001b[1;32mTrue\u001b[0m\u001b[1;33m)\u001b[0m\u001b[1;33m\u001b[0m\u001b[1;33m\u001b[0m\u001b[0m\n\u001b[0m\u001b[0;32m    898\u001b[0m \u001b[1;33m\u001b[0m\u001b[0m\n\u001b[0;32m    899\u001b[0m     \u001b[1;32mreturn\u001b[0m \u001b[0marr\u001b[0m\u001b[1;33m.\u001b[0m\u001b[0mview\u001b[0m\u001b[1;33m(\u001b[0m\u001b[0mdtype\u001b[0m\u001b[1;33m)\u001b[0m\u001b[1;33m\u001b[0m\u001b[1;33m\u001b[0m\u001b[0m\n",
      "\u001b[1;31mValueError\u001b[0m: could not convert string to float: '2014-04-17'"
     ]
    }
   ],
   "source": [
    "df_ks[\"goal\"]=df_ks[\"goal\"].astype(float)\n",
    "# Il y a visiblement une erreur lors de l'entrée des données. Certaines données sont dans les mauvaises colonnes. On peut donc s'attendre à avoir un problème sur chaque colonne."
   ]
  },
  {
   "cell_type": "code",
   "execution_count": 114,
   "metadata": {},
   "outputs": [
    {
     "output_type": "execute_result",
     "data": {
      "text/plain": [
       "ID                                        85964225\n",
       "name                Debut Album from Michael Adam \n",
       "category                          Grace is Leaving\n",
       "main_category                           Indie Rock\n",
       "currency                                     Music\n",
       "deadline                                       USD\n",
       "goal                                    2014-04-17\n",
       "launched                                     700.0\n",
       "pledged                        2014-04-02 21:56:35\n",
       "state                                        850.0\n",
       "backers                                 successful\n",
       "country                                         32\n",
       "usd pledged                                     US\n",
       "usd_pledged_real                               850\n",
       "Name: 66141, dtype: object"
      ]
     },
     "metadata": {},
     "execution_count": 114
    }
   ],
   "source": [
    "df_ks.loc[66141, :]\n",
    "# Cette ligne a été mal remplie."
   ]
  },
  {
   "cell_type": "code",
   "execution_count": 115,
   "metadata": {},
   "outputs": [
    {
     "output_type": "execute_result",
     "data": {
      "text/plain": [
       "             ID                                            name    category  \\\n",
       "66141  85964225  Debut Album from Michael Adam Grace is Leaving  Indie Rock   \n",
       "\n",
       "      main_category currency    deadline goal             launched pledged  \\\n",
       "66141         Music      USD  2014-04-17  700  2014-04-02 21:56:35     850   \n",
       "\n",
       "            state backers country usd pledged  usd_pledged_real  \n",
       "66141  successful      32      US         850             850.0  "
      ],
      "text/html": "<div>\n<style scoped>\n    .dataframe tbody tr th:only-of-type {\n        vertical-align: middle;\n    }\n\n    .dataframe tbody tr th {\n        vertical-align: top;\n    }\n\n    .dataframe thead th {\n        text-align: right;\n    }\n</style>\n<table border=\"1\" class=\"dataframe\">\n  <thead>\n    <tr style=\"text-align: right;\">\n      <th></th>\n      <th>ID</th>\n      <th>name</th>\n      <th>category</th>\n      <th>main_category</th>\n      <th>currency</th>\n      <th>deadline</th>\n      <th>goal</th>\n      <th>launched</th>\n      <th>pledged</th>\n      <th>state</th>\n      <th>backers</th>\n      <th>country</th>\n      <th>usd pledged</th>\n      <th>usd_pledged_real</th>\n    </tr>\n  </thead>\n  <tbody>\n    <tr>\n      <th>66141</th>\n      <td>85964225</td>\n      <td>Debut Album from Michael Adam Grace is Leaving</td>\n      <td>Indie Rock</td>\n      <td>Music</td>\n      <td>USD</td>\n      <td>2014-04-17</td>\n      <td>700</td>\n      <td>2014-04-02 21:56:35</td>\n      <td>850</td>\n      <td>successful</td>\n      <td>32</td>\n      <td>US</td>\n      <td>850</td>\n      <td>850.0</td>\n    </tr>\n  </tbody>\n</table>\n</div>"
     },
     "metadata": {},
     "execution_count": 115
    }
   ],
   "source": [
    "# On remet les données dans l'ordre.\n",
    "dic = [85964225, 'Debut Album from Michael Adam Grace is Leaving', 'Indie Rock', 'Music', 'USD', '2014-04-17', 700.0, '2014-04-02 21:56:35', 850.0, \"successful\", 32, 'US', 850, 850.00]\n",
    "df_ks.loc[[66141], :] = dic\n",
    "df_ks.loc[[66141], :] "
   ]
  },
  {
   "cell_type": "code",
   "execution_count": 116,
   "metadata": {},
   "outputs": [
    {
     "output_type": "execute_result",
     "data": {
      "text/plain": [
       "ID                            387897081\n",
       "name                 Memory and Weather\n",
       "category                          Music\n",
       "main_category                     Music\n",
       "currency                            USD\n",
       "deadline                     2015-02-07\n",
       "goal                             6000.0\n",
       "launched            2015-01-17 00:56:33\n",
       "pledged                          6050.0\n",
       "state                         undefined\n",
       "backers                               0\n",
       "country                            N,0\"\n",
       "usd pledged                         NaN\n",
       "usd_pledged_real                   6050\n",
       "Name: 75119, dtype: object"
      ]
     },
     "metadata": {},
     "execution_count": 116
    }
   ],
   "source": [
    "df_ks.loc[75119,:]\n",
    "# On remarque qu'il y a des NaN. "
   ]
  },
  {
   "cell_type": "code",
   "execution_count": 117,
   "metadata": {},
   "outputs": [
    {
     "output_type": "execute_result",
     "data": {
      "text/plain": [
       "ID                     0\n",
       "name                   2\n",
       "category               0\n",
       "main_category          0\n",
       "currency               0\n",
       "deadline               0\n",
       "goal                   0\n",
       "launched               0\n",
       "pledged                0\n",
       "state                  0\n",
       "backers                0\n",
       "country                0\n",
       "usd pledged         1482\n",
       "usd_pledged_real       0\n",
       "dtype: int64"
      ]
     },
     "metadata": {},
     "execution_count": 117
    }
   ],
   "source": [
    "df_ks.isna().sum()\n",
    "# Nous allons conserver seulement les lignes où il n'y a pas de Na."
   ]
  },
  {
   "cell_type": "code",
   "execution_count": 118,
   "metadata": {},
   "outputs": [
    {
     "output_type": "execute_result",
     "data": {
      "text/plain": [
       "ID                  0\n",
       "name                0\n",
       "category            0\n",
       "main_category       0\n",
       "currency            0\n",
       "deadline            0\n",
       "goal                0\n",
       "launched            0\n",
       "pledged             0\n",
       "state               0\n",
       "backers             0\n",
       "country             0\n",
       "usd pledged         0\n",
       "usd_pledged_real    0\n",
       "dtype: int64"
      ]
     },
     "metadata": {},
     "execution_count": 118
    }
   ],
   "source": [
    "df_ks = df_ks[df_ks.isna().any(axis=1)==False]\n",
    "df_ks.isna().sum()"
   ]
  },
  {
   "cell_type": "code",
   "execution_count": 119,
   "metadata": {},
   "outputs": [
    {
     "output_type": "execute_result",
     "data": {
      "text/plain": [
       "ID                           int64\n",
       "name                        string\n",
       "category                    string\n",
       "main_category               string\n",
       "currency                    string\n",
       "deadline            datetime64[ns]\n",
       "goal                       float64\n",
       "launched            datetime64[ns]\n",
       "pledged                    float64\n",
       "state                       string\n",
       "backers                    float64\n",
       "country                     string\n",
       "usd pledged                float64\n",
       "usd_pledged_real           float64\n",
       "dtype: object"
      ]
     },
     "metadata": {},
     "execution_count": 119
    }
   ],
   "source": [
    "# On formate le type de données pour profiter des méthodes implémentées par Mongo.\n",
    "dtype = {'ID' : 'int64', 'name' : 'string', 'category' : 'string', 'main_category' : 'string', 'currency' : 'string', 'deadline' : 'datetime64[ns]', 'goal' : 'float64', 'launched' : 'datetime64[ns]', 'pledged' : 'float64', 'state' : 'string', 'backers' : 'float64', 'country' : 'string', 'usd pledged' : 'float64', 'usd_pledged_real' : 'float64'}\n",
    "df_ks= df_ks.astype(dtype)\n",
    "df_ks.dtypes"
   ]
  },
  {
   "cell_type": "code",
   "execution_count": 120,
   "metadata": {},
   "outputs": [
    {
     "output_type": "execute_result",
     "data": {
      "text/plain": [
       "Index(['ID', 'name', 'category', 'main_category', 'goal', 'launched', 'state',\n",
       "       'country', 'usd_pledged_real'],\n",
       "      dtype='object')"
      ]
     },
     "metadata": {},
     "execution_count": 120
    }
   ],
   "source": [
    "# L'ensemble de données n'est pas forcément nécessaire donc nous allons passer en revue les questions de l'exercice pour supprimer les colonnes dont nous n'aurons pas besoin\n",
    "df_ks = df_ks.drop(['currency', 'deadline', 'usd pledged', 'pledged', 'backers'], axis=1)\n",
    "df_ks.columns"
   ]
  },
  {
   "cell_type": "code",
   "execution_count": 121,
   "metadata": {},
   "outputs": [
    {
     "output_type": "execute_result",
     "data": {
      "text/plain": [
       "           ID                                               name  \\\n",
       "0   872782264    Scott Cooper's Solo CD \"A Leg Trick\" (Canceled)   \n",
       "1  1326492673                                    Ohceola jewelry   \n",
       "2  1688410639  Sluff Off & Harald: Two latest EGGs are Classi...   \n",
       "3   156812982  SketchPlanner: Create and Plan- all in one bea...   \n",
       "4  1835968190    Proven sales with custom motorcycle accessories   \n",
       "\n",
       "         category main_category     goal            launched       state  \\\n",
       "0            Rock         Music   2000.0 2011-08-17 06:31:31    canceled   \n",
       "1         Fashion       Fashion  18000.0 2012-07-23 20:46:48      failed   \n",
       "2  Tabletop Games         Games   2000.0 2016-07-01 21:55:54  successful   \n",
       "3       Art Books    Publishing  13000.0 2017-08-28 15:47:02  successful   \n",
       "4       Sculpture           Art   5000.0 2016-01-25 17:37:10      failed   \n",
       "\n",
       "  country  usd_pledged_real  \n",
       "0      US       1145.000000  \n",
       "1      US       1851.000000  \n",
       "2      US       7534.000000  \n",
       "3      US      16298.000000  \n",
       "4      CA          0.738225  "
      ],
      "text/html": "<div>\n<style scoped>\n    .dataframe tbody tr th:only-of-type {\n        vertical-align: middle;\n    }\n\n    .dataframe tbody tr th {\n        vertical-align: top;\n    }\n\n    .dataframe thead th {\n        text-align: right;\n    }\n</style>\n<table border=\"1\" class=\"dataframe\">\n  <thead>\n    <tr style=\"text-align: right;\">\n      <th></th>\n      <th>ID</th>\n      <th>name</th>\n      <th>category</th>\n      <th>main_category</th>\n      <th>goal</th>\n      <th>launched</th>\n      <th>state</th>\n      <th>country</th>\n      <th>usd_pledged_real</th>\n    </tr>\n  </thead>\n  <tbody>\n    <tr>\n      <th>0</th>\n      <td>872782264</td>\n      <td>Scott Cooper's Solo CD \"A Leg Trick\" (Canceled)</td>\n      <td>Rock</td>\n      <td>Music</td>\n      <td>2000.0</td>\n      <td>2011-08-17 06:31:31</td>\n      <td>canceled</td>\n      <td>US</td>\n      <td>1145.000000</td>\n    </tr>\n    <tr>\n      <th>1</th>\n      <td>1326492673</td>\n      <td>Ohceola jewelry</td>\n      <td>Fashion</td>\n      <td>Fashion</td>\n      <td>18000.0</td>\n      <td>2012-07-23 20:46:48</td>\n      <td>failed</td>\n      <td>US</td>\n      <td>1851.000000</td>\n    </tr>\n    <tr>\n      <th>2</th>\n      <td>1688410639</td>\n      <td>Sluff Off &amp; Harald: Two latest EGGs are Classi...</td>\n      <td>Tabletop Games</td>\n      <td>Games</td>\n      <td>2000.0</td>\n      <td>2016-07-01 21:55:54</td>\n      <td>successful</td>\n      <td>US</td>\n      <td>7534.000000</td>\n    </tr>\n    <tr>\n      <th>3</th>\n      <td>156812982</td>\n      <td>SketchPlanner: Create and Plan- all in one bea...</td>\n      <td>Art Books</td>\n      <td>Publishing</td>\n      <td>13000.0</td>\n      <td>2017-08-28 15:47:02</td>\n      <td>successful</td>\n      <td>US</td>\n      <td>16298.000000</td>\n    </tr>\n    <tr>\n      <th>4</th>\n      <td>1835968190</td>\n      <td>Proven sales with custom motorcycle accessories</td>\n      <td>Sculpture</td>\n      <td>Art</td>\n      <td>5000.0</td>\n      <td>2016-01-25 17:37:10</td>\n      <td>failed</td>\n      <td>CA</td>\n      <td>0.738225</td>\n    </tr>\n  </tbody>\n</table>\n</div>"
     },
     "metadata": {},
     "execution_count": 121
    }
   ],
   "source": [
    "df_ks.head()"
   ]
  },
  {
   "cell_type": "markdown",
   "metadata": {
    "slideshow": {
     "slide_type": "slide"
    }
   },
   "source": [
    "### Importer les données"
   ]
  },
  {
   "cell_type": "code",
   "execution_count": 122,
   "metadata": {},
   "outputs": [
    {
     "output_type": "execute_result",
     "data": {
      "text/plain": [
       "<pymongo.results.InsertManyResult at 0x1f6cb3d3640>"
      ]
     },
     "metadata": {},
     "execution_count": 122
    }
   ],
   "source": [
    "# Il conviendra de bien spécifier manuellement l'ID du document. \n",
    "df_ks['_id'] = df_ks['ID']\n",
    "DOCUMENTS = df_ks.to_dict('records')\n",
    "collection.drop()\n",
    "collection.insert_many(DOCUMENTS)"
   ]
  },
  {
   "cell_type": "markdown",
   "metadata": {},
   "source": [
    "## Question 1  "
   ]
  },
  {
   "cell_type": "code",
   "execution_count": 123,
   "metadata": {},
   "outputs": [
    {
     "output_type": "execute_result",
     "data": {
      "text/plain": [
       "[{'_id': 156812982,\n",
       "  'name': 'SketchPlanner: Create and Plan- all in one beautiful book!'},\n",
       " {'_id': 1835968190,\n",
       "  'name': 'Proven sales with custom motorcycle accessories'},\n",
       " {'_id': 1326492673, 'name': 'Ohceola jewelry'},\n",
       " {'_id': 872782264,\n",
       "  'name': 'Scott Cooper\\'s Solo CD \"A Leg Trick\" (Canceled)'},\n",
       " {'_id': 1688410639,\n",
       "  'name': 'Sluff Off & Harald: Two latest EGGs are Classics \"old & new\"'}]"
      ]
     },
     "metadata": {},
     "execution_count": 123
    }
   ],
   "source": [
    "# On récupère les 5 projets ayant reçu le plus de promesse de dons.\n",
    "cur = collection.find({}, {'name':1}).sort([(\"usd pledged\", 1)]).limit(5)\n",
    "list(cur)"
   ]
  },
  {
   "cell_type": "markdown",
   "metadata": {},
   "source": [
    "## Question 2"
   ]
  },
  {
   "cell_type": "code",
   "execution_count": 124,
   "metadata": {},
   "outputs": [
    {
     "output_type": "execute_result",
     "data": {
      "text/plain": [
       "52999"
      ]
     },
     "metadata": {},
     "execution_count": 124
    }
   ],
   "source": [
    "# On compte le nombre de projets ayant atteint leur but et qui sont donc \"successful\".\n",
    "cur = collection.find( { \"state\": 'successful' })\n",
    "len(list(cur))"
   ]
  },
  {
   "cell_type": "markdown",
   "metadata": {},
   "source": [
    "## Question 3"
   ]
  },
  {
   "cell_type": "code",
   "execution_count": 125,
   "metadata": {},
   "outputs": [
    {
     "output_type": "execute_result",
     "data": {
      "text/plain": [
       "[{'_id': 'Film & Video', 'NumberByCategory': 24982},\n",
       " {'_id': 'Journalism', 'NumberByCategory': 1807},\n",
       " {'_id': 'Photography', 'NumberByCategory': 4176},\n",
       " {'_id': 'Technology', 'NumberByCategory': 12871},\n",
       " {'_id': 'Art', 'NumberByCategory': 11260},\n",
       " {'_id': 'Crafts', 'NumberByCategory': 3463},\n",
       " {'_id': 'Publishing', 'NumberByCategory': 15721},\n",
       " {'_id': 'Music', 'NumberByCategory': 19658},\n",
       " {'_id': 'Food', 'NumberByCategory': 9805},\n",
       " {'_id': 'Games', 'NumberByCategory': 13987},\n",
       " {'_id': 'Fashion', 'NumberByCategory': 8943},\n",
       " {'_id': 'Theater', 'NumberByCategory': 4305},\n",
       " {'_id': 'Comics', 'NumberByCategory': 4139},\n",
       " {'_id': 'Dance', 'NumberByCategory': 1488},\n",
       " {'_id': 'Design', 'NumberByCategory': 11911}]"
      ]
     },
     "metadata": {},
     "execution_count": 125
    }
   ],
   "source": [
    "# On compte le nombre de projets pour chaque catégorie.\n",
    "cur = collection.aggregate([{\"$group\" : {\"_id\" : \"$main_category\", \"NumberByCategory\" : {\"$sum\" : 1}}}])\n",
    "list(cur)"
   ]
  },
  {
   "cell_type": "markdown",
   "metadata": {},
   "source": [
    "## Question 4"
   ]
  },
  {
   "cell_type": "code",
   "execution_count": 126,
   "metadata": {},
   "outputs": [
    {
     "output_type": "execute_result",
     "data": {
      "text/plain": [
       "330"
      ]
     },
     "metadata": {},
     "execution_count": 126
    }
   ],
   "source": [
    "# On compte le nombre de projets français (\"country\": 'FR') ayant été instanciés avant 2016.\n",
    "cur = collection.find({\n",
    "     \"country\": 'FR' \n",
    "          ,\n",
    "          'launched' : {'$lt' : datetime.datetime(2016, 1, 1)}})\n",
    "len(list(cur))"
   ]
  },
  {
   "cell_type": "markdown",
   "metadata": {},
   "source": [
    "## Question 5"
   ]
  },
  {
   "cell_type": "code",
   "execution_count": 127,
   "metadata": {},
   "outputs": [
    {
     "output_type": "execute_result",
     "data": {
      "text/plain": [
       "22196"
      ]
     },
     "metadata": {},
     "execution_count": 127
    }
   ],
   "source": [
    "# On récupère les projets américains (\"country\": 'US') ayant demandé plus de 200 000 dollars.\n",
    "cur = collection.find({\n",
    "     \"country\": 'US' \n",
    "          ,\n",
    "          'goal' : {'$gt' : 20000}})\n",
    "len(list(cur))"
   ]
  },
  {
   "cell_type": "markdown",
   "metadata": {},
   "source": [
    "## Question 6 "
   ]
  },
  {
   "cell_type": "code",
   "execution_count": 128,
   "metadata": {},
   "outputs": [
    {
     "output_type": "execute_result",
     "data": {
      "text/plain": [
       "316"
      ]
     },
     "metadata": {},
     "execution_count": 128
    }
   ],
   "source": [
    "# On compte le nombre de projets ayant \"Sport\" dans leur nom.\n",
    "collection.create_index([('name', 'text')])\n",
    "cur = collection.find( { \"$text\": { \"$search\": \"Sport\" } } )\n",
    "len(list(cur))"
   ]
  }
 ],
 "metadata": {
  "kernelspec": {
   "display_name": "Python 3",
   "language": "python",
   "name": "python3"
  },
  "language_info": {
   "codemirror_mode": {
    "name": "ipython",
    "version": 3
   },
   "file_extension": ".py",
   "mimetype": "text/x-python",
   "name": "python",
   "nbconvert_exporter": "python",
   "pygments_lexer": "ipython3",
   "version": "3.8.3-final"
  }
 },
 "nbformat": 4,
 "nbformat_minor": 2
}